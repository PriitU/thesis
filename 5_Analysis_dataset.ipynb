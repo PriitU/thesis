{
 "cells": [
  {
   "cell_type": "code",
   "execution_count": 1,
   "metadata": {},
   "outputs": [],
   "source": [
    "import pandas as pd"
   ]
  },
  {
   "cell_type": "markdown",
   "metadata": {},
   "source": [
    "# Maakasutuse 1. taseme klassifikaator"
   ]
  },
  {
   "cell_type": "markdown",
   "metadata": {},
   "source": [
    "## Kardinaalsus"
   ]
  },
  {
   "cell_type": "code",
   "execution_count": 2,
   "metadata": {},
   "outputs": [
    {
     "data": {
      "text/html": [
       "<div>\n",
       "<style scoped>\n",
       "    .dataframe tbody tr th:only-of-type {\n",
       "        vertical-align: middle;\n",
       "    }\n",
       "\n",
       "    .dataframe tbody tr th {\n",
       "        vertical-align: top;\n",
       "    }\n",
       "\n",
       "    .dataframe thead th {\n",
       "        text-align: right;\n",
       "    }\n",
       "</style>\n",
       "<table border=\"1\" class=\"dataframe\">\n",
       "  <thead>\n",
       "    <tr style=\"text-align: right;\">\n",
       "      <th></th>\n",
       "      <th>0</th>\n",
       "      <th>1</th>\n",
       "      <th>Count</th>\n",
       "    </tr>\n",
       "  </thead>\n",
       "  <tbody>\n",
       "    <tr>\n",
       "      <td>0</td>\n",
       "      <td>S2B_MSIL2A_20170930T095019_26_47</td>\n",
       "      <td>[Forest and semi natural areas, Agricultural a...</td>\n",
       "      <td>2</td>\n",
       "    </tr>\n",
       "    <tr>\n",
       "      <td>1</td>\n",
       "      <td>S2A_MSIL2A_20171002T112112_49_43</td>\n",
       "      <td>[Forest and semi natural area]</td>\n",
       "      <td>1</td>\n",
       "    </tr>\n",
       "    <tr>\n",
       "      <td>2</td>\n",
       "      <td>S2A_MSIL2A_20180225T114351_85_29</td>\n",
       "      <td>[Water bodie]</td>\n",
       "      <td>1</td>\n",
       "    </tr>\n",
       "    <tr>\n",
       "      <td>3</td>\n",
       "      <td>S2B_MSIL2A_20180201T093219_20_72</td>\n",
       "      <td>[Artificial surfaces, Forest and semi natural ...</td>\n",
       "      <td>3</td>\n",
       "    </tr>\n",
       "    <tr>\n",
       "      <td>4</td>\n",
       "      <td>S2B_MSIL2A_20180421T100029_41_31</td>\n",
       "      <td>[Forest and semi natural areas, Agricultural a...</td>\n",
       "      <td>2</td>\n",
       "    </tr>\n",
       "  </tbody>\n",
       "</table>\n",
       "</div>"
      ],
      "text/plain": [
       "                                  0  \\\n",
       "0  S2B_MSIL2A_20170930T095019_26_47   \n",
       "1  S2A_MSIL2A_20171002T112112_49_43   \n",
       "2  S2A_MSIL2A_20180225T114351_85_29   \n",
       "3  S2B_MSIL2A_20180201T093219_20_72   \n",
       "4  S2B_MSIL2A_20180421T100029_41_31   \n",
       "\n",
       "                                                   1  Count  \n",
       "0  [Forest and semi natural areas, Agricultural a...      2  \n",
       "1                     [Forest and semi natural area]      1  \n",
       "2                                      [Water bodie]      1  \n",
       "3  [Artificial surfaces, Forest and semi natural ...      3  \n",
       "4  [Forest and semi natural areas, Agricultural a...      2  "
      ]
     },
     "execution_count": 2,
     "metadata": {},
     "output_type": "execute_result"
    }
   ],
   "source": [
    "df1 = pd.read_csv('Level1_labels.csv', header=None, sep='|')\n",
    "df1[1]=df1[1].str[0:-1].str.split(';')\n",
    "df1['Count'] = [len(c) for c in df1[1]]\n",
    "df1.head()"
   ]
  },
  {
   "cell_type": "code",
   "execution_count": 3,
   "metadata": {},
   "outputs": [],
   "source": [
    "Kardinaalsus1=df1['Count'].mean()"
   ]
  },
  {
   "cell_type": "markdown",
   "metadata": {},
   "source": [
    "## Tihedus"
   ]
  },
  {
   "cell_type": "code",
   "execution_count": 4,
   "metadata": {},
   "outputs": [],
   "source": [
    "df1['Density'] = [c/5 for c in df1['Count']]"
   ]
  },
  {
   "cell_type": "code",
   "execution_count": 5,
   "metadata": {},
   "outputs": [
    {
     "data": {
      "text/html": [
       "<div>\n",
       "<style scoped>\n",
       "    .dataframe tbody tr th:only-of-type {\n",
       "        vertical-align: middle;\n",
       "    }\n",
       "\n",
       "    .dataframe tbody tr th {\n",
       "        vertical-align: top;\n",
       "    }\n",
       "\n",
       "    .dataframe thead th {\n",
       "        text-align: right;\n",
       "    }\n",
       "</style>\n",
       "<table border=\"1\" class=\"dataframe\">\n",
       "  <thead>\n",
       "    <tr style=\"text-align: right;\">\n",
       "      <th></th>\n",
       "      <th>0</th>\n",
       "      <th>1</th>\n",
       "      <th>Count</th>\n",
       "      <th>Density</th>\n",
       "    </tr>\n",
       "  </thead>\n",
       "  <tbody>\n",
       "    <tr>\n",
       "      <td>0</td>\n",
       "      <td>S2B_MSIL2A_20170930T095019_26_47</td>\n",
       "      <td>[Forest and semi natural areas, Agricultural a...</td>\n",
       "      <td>2</td>\n",
       "      <td>0.4</td>\n",
       "    </tr>\n",
       "    <tr>\n",
       "      <td>1</td>\n",
       "      <td>S2A_MSIL2A_20171002T112112_49_43</td>\n",
       "      <td>[Forest and semi natural area]</td>\n",
       "      <td>1</td>\n",
       "      <td>0.2</td>\n",
       "    </tr>\n",
       "    <tr>\n",
       "      <td>2</td>\n",
       "      <td>S2A_MSIL2A_20180225T114351_85_29</td>\n",
       "      <td>[Water bodie]</td>\n",
       "      <td>1</td>\n",
       "      <td>0.2</td>\n",
       "    </tr>\n",
       "    <tr>\n",
       "      <td>3</td>\n",
       "      <td>S2B_MSIL2A_20180201T093219_20_72</td>\n",
       "      <td>[Artificial surfaces, Forest and semi natural ...</td>\n",
       "      <td>3</td>\n",
       "      <td>0.6</td>\n",
       "    </tr>\n",
       "    <tr>\n",
       "      <td>4</td>\n",
       "      <td>S2B_MSIL2A_20180421T100029_41_31</td>\n",
       "      <td>[Forest and semi natural areas, Agricultural a...</td>\n",
       "      <td>2</td>\n",
       "      <td>0.4</td>\n",
       "    </tr>\n",
       "  </tbody>\n",
       "</table>\n",
       "</div>"
      ],
      "text/plain": [
       "                                  0  \\\n",
       "0  S2B_MSIL2A_20170930T095019_26_47   \n",
       "1  S2A_MSIL2A_20171002T112112_49_43   \n",
       "2  S2A_MSIL2A_20180225T114351_85_29   \n",
       "3  S2B_MSIL2A_20180201T093219_20_72   \n",
       "4  S2B_MSIL2A_20180421T100029_41_31   \n",
       "\n",
       "                                                   1  Count  Density  \n",
       "0  [Forest and semi natural areas, Agricultural a...      2      0.4  \n",
       "1                     [Forest and semi natural area]      1      0.2  \n",
       "2                                      [Water bodie]      1      0.2  \n",
       "3  [Artificial surfaces, Forest and semi natural ...      3      0.6  \n",
       "4  [Forest and semi natural areas, Agricultural a...      2      0.4  "
      ]
     },
     "execution_count": 5,
     "metadata": {},
     "output_type": "execute_result"
    }
   ],
   "source": [
    "df1.head()"
   ]
  },
  {
   "cell_type": "code",
   "execution_count": 6,
   "metadata": {},
   "outputs": [],
   "source": [
    "Tihedus1=df1['Density'].mean()"
   ]
  },
  {
   "cell_type": "markdown",
   "metadata": {},
   "source": [
    "# Maakasutuse 2. taseme klassifikaator"
   ]
  },
  {
   "cell_type": "markdown",
   "metadata": {},
   "source": [
    "## Kardinaalsus"
   ]
  },
  {
   "cell_type": "code",
   "execution_count": 7,
   "metadata": {},
   "outputs": [
    {
     "data": {
      "text/html": [
       "<div>\n",
       "<style scoped>\n",
       "    .dataframe tbody tr th:only-of-type {\n",
       "        vertical-align: middle;\n",
       "    }\n",
       "\n",
       "    .dataframe tbody tr th {\n",
       "        vertical-align: top;\n",
       "    }\n",
       "\n",
       "    .dataframe thead th {\n",
       "        text-align: right;\n",
       "    }\n",
       "</style>\n",
       "<table border=\"1\" class=\"dataframe\">\n",
       "  <thead>\n",
       "    <tr style=\"text-align: right;\">\n",
       "      <th></th>\n",
       "      <th>0</th>\n",
       "      <th>1</th>\n",
       "      <th>Count</th>\n",
       "    </tr>\n",
       "  </thead>\n",
       "  <tbody>\n",
       "    <tr>\n",
       "      <td>0</td>\n",
       "      <td>S2B_MSIL2A_20170930T095019_26_47</td>\n",
       "      <td>[Arable land, Heterogeneous agricultural areas...</td>\n",
       "      <td>4</td>\n",
       "    </tr>\n",
       "    <tr>\n",
       "      <td>1</td>\n",
       "      <td>S2A_MSIL2A_20171002T112112_49_43</td>\n",
       "      <td>[Scrub and/or herbaceous vegetation associatio...</td>\n",
       "      <td>2</td>\n",
       "    </tr>\n",
       "    <tr>\n",
       "      <td>2</td>\n",
       "      <td>S2A_MSIL2A_20180225T114351_85_29</td>\n",
       "      <td>[Marine water]</td>\n",
       "      <td>1</td>\n",
       "    </tr>\n",
       "    <tr>\n",
       "      <td>3</td>\n",
       "      <td>S2B_MSIL2A_20180201T093219_20_72</td>\n",
       "      <td>[Forests, Urban fabric, Heterogeneous agricult...</td>\n",
       "      <td>3</td>\n",
       "    </tr>\n",
       "    <tr>\n",
       "      <td>4</td>\n",
       "      <td>S2B_MSIL2A_20180421T100029_41_31</td>\n",
       "      <td>[Pastures, Forest]</td>\n",
       "      <td>2</td>\n",
       "    </tr>\n",
       "  </tbody>\n",
       "</table>\n",
       "</div>"
      ],
      "text/plain": [
       "                                  0  \\\n",
       "0  S2B_MSIL2A_20170930T095019_26_47   \n",
       "1  S2A_MSIL2A_20171002T112112_49_43   \n",
       "2  S2A_MSIL2A_20180225T114351_85_29   \n",
       "3  S2B_MSIL2A_20180201T093219_20_72   \n",
       "4  S2B_MSIL2A_20180421T100029_41_31   \n",
       "\n",
       "                                                   1  Count  \n",
       "0  [Arable land, Heterogeneous agricultural areas...      4  \n",
       "1  [Scrub and/or herbaceous vegetation associatio...      2  \n",
       "2                                     [Marine water]      1  \n",
       "3  [Forests, Urban fabric, Heterogeneous agricult...      3  \n",
       "4                                 [Pastures, Forest]      2  "
      ]
     },
     "execution_count": 7,
     "metadata": {},
     "output_type": "execute_result"
    }
   ],
   "source": [
    "df2 = pd.read_csv('Level2_labels.csv', header=None, sep='|')\n",
    "df2[1]=df2[1].str[0:-1].str.split(';')\n",
    "df2['Count'] = [len(c) for c in df2[1]]\n",
    "df2.head()"
   ]
  },
  {
   "cell_type": "code",
   "execution_count": 8,
   "metadata": {},
   "outputs": [],
   "source": [
    "Kardinaalsus2=df2['Count'].mean()"
   ]
  },
  {
   "cell_type": "markdown",
   "metadata": {},
   "source": [
    "## Tihedus"
   ]
  },
  {
   "cell_type": "code",
   "execution_count": 9,
   "metadata": {},
   "outputs": [],
   "source": [
    "df2['Density'] = [c/15 for c in df2['Count']]"
   ]
  },
  {
   "cell_type": "code",
   "execution_count": 10,
   "metadata": {},
   "outputs": [
    {
     "data": {
      "text/html": [
       "<div>\n",
       "<style scoped>\n",
       "    .dataframe tbody tr th:only-of-type {\n",
       "        vertical-align: middle;\n",
       "    }\n",
       "\n",
       "    .dataframe tbody tr th {\n",
       "        vertical-align: top;\n",
       "    }\n",
       "\n",
       "    .dataframe thead th {\n",
       "        text-align: right;\n",
       "    }\n",
       "</style>\n",
       "<table border=\"1\" class=\"dataframe\">\n",
       "  <thead>\n",
       "    <tr style=\"text-align: right;\">\n",
       "      <th></th>\n",
       "      <th>0</th>\n",
       "      <th>1</th>\n",
       "      <th>Count</th>\n",
       "      <th>Density</th>\n",
       "    </tr>\n",
       "  </thead>\n",
       "  <tbody>\n",
       "    <tr>\n",
       "      <td>0</td>\n",
       "      <td>S2B_MSIL2A_20170930T095019_26_47</td>\n",
       "      <td>[Arable land, Heterogeneous agricultural areas...</td>\n",
       "      <td>4</td>\n",
       "      <td>0.266667</td>\n",
       "    </tr>\n",
       "    <tr>\n",
       "      <td>1</td>\n",
       "      <td>S2A_MSIL2A_20171002T112112_49_43</td>\n",
       "      <td>[Scrub and/or herbaceous vegetation associatio...</td>\n",
       "      <td>2</td>\n",
       "      <td>0.133333</td>\n",
       "    </tr>\n",
       "    <tr>\n",
       "      <td>2</td>\n",
       "      <td>S2A_MSIL2A_20180225T114351_85_29</td>\n",
       "      <td>[Marine water]</td>\n",
       "      <td>1</td>\n",
       "      <td>0.066667</td>\n",
       "    </tr>\n",
       "    <tr>\n",
       "      <td>3</td>\n",
       "      <td>S2B_MSIL2A_20180201T093219_20_72</td>\n",
       "      <td>[Forests, Urban fabric, Heterogeneous agricult...</td>\n",
       "      <td>3</td>\n",
       "      <td>0.200000</td>\n",
       "    </tr>\n",
       "    <tr>\n",
       "      <td>4</td>\n",
       "      <td>S2B_MSIL2A_20180421T100029_41_31</td>\n",
       "      <td>[Pastures, Forest]</td>\n",
       "      <td>2</td>\n",
       "      <td>0.133333</td>\n",
       "    </tr>\n",
       "  </tbody>\n",
       "</table>\n",
       "</div>"
      ],
      "text/plain": [
       "                                  0  \\\n",
       "0  S2B_MSIL2A_20170930T095019_26_47   \n",
       "1  S2A_MSIL2A_20171002T112112_49_43   \n",
       "2  S2A_MSIL2A_20180225T114351_85_29   \n",
       "3  S2B_MSIL2A_20180201T093219_20_72   \n",
       "4  S2B_MSIL2A_20180421T100029_41_31   \n",
       "\n",
       "                                                   1  Count   Density  \n",
       "0  [Arable land, Heterogeneous agricultural areas...      4  0.266667  \n",
       "1  [Scrub and/or herbaceous vegetation associatio...      2  0.133333  \n",
       "2                                     [Marine water]      1  0.066667  \n",
       "3  [Forests, Urban fabric, Heterogeneous agricult...      3  0.200000  \n",
       "4                                 [Pastures, Forest]      2  0.133333  "
      ]
     },
     "execution_count": 10,
     "metadata": {},
     "output_type": "execute_result"
    }
   ],
   "source": [
    "df2.head()"
   ]
  },
  {
   "cell_type": "code",
   "execution_count": 11,
   "metadata": {},
   "outputs": [],
   "source": [
    "Tihedus2=df2['Density'].mean()"
   ]
  },
  {
   "cell_type": "markdown",
   "metadata": {},
   "source": [
    "# Maakasutuse 3. taseme klassifikaator"
   ]
  },
  {
   "cell_type": "markdown",
   "metadata": {},
   "source": [
    "## Kardinaalsus"
   ]
  },
  {
   "cell_type": "code",
   "execution_count": 12,
   "metadata": {},
   "outputs": [
    {
     "data": {
      "text/html": [
       "<div>\n",
       "<style scoped>\n",
       "    .dataframe tbody tr th:only-of-type {\n",
       "        vertical-align: middle;\n",
       "    }\n",
       "\n",
       "    .dataframe tbody tr th {\n",
       "        vertical-align: top;\n",
       "    }\n",
       "\n",
       "    .dataframe thead th {\n",
       "        text-align: right;\n",
       "    }\n",
       "</style>\n",
       "<table border=\"1\" class=\"dataframe\">\n",
       "  <thead>\n",
       "    <tr style=\"text-align: right;\">\n",
       "      <th></th>\n",
       "      <th>0</th>\n",
       "      <th>1</th>\n",
       "      <th>Count</th>\n",
       "    </tr>\n",
       "  </thead>\n",
       "  <tbody>\n",
       "    <tr>\n",
       "      <td>0</td>\n",
       "      <td>S2B_MSIL2A_20170930T095019_26_47</td>\n",
       "      <td>[Non-irrigated arable land, Pastures, Complex ...</td>\n",
       "      <td>5</td>\n",
       "    </tr>\n",
       "    <tr>\n",
       "      <td>1</td>\n",
       "      <td>S2A_MSIL2A_20171002T112112_49_43</td>\n",
       "      <td>[Broad-leaved forest, Sclerophyllous vegetatio...</td>\n",
       "      <td>3</td>\n",
       "    </tr>\n",
       "    <tr>\n",
       "      <td>2</td>\n",
       "      <td>S2A_MSIL2A_20180225T114351_85_29</td>\n",
       "      <td>[Sea and ocea]</td>\n",
       "      <td>1</td>\n",
       "    </tr>\n",
       "    <tr>\n",
       "      <td>3</td>\n",
       "      <td>S2B_MSIL2A_20180201T093219_20_72</td>\n",
       "      <td>[Discontinuous urban fabric, Land principally ...</td>\n",
       "      <td>3</td>\n",
       "    </tr>\n",
       "    <tr>\n",
       "      <td>4</td>\n",
       "      <td>S2B_MSIL2A_20180421T100029_41_31</td>\n",
       "      <td>[Pastures, Coniferous fores]</td>\n",
       "      <td>2</td>\n",
       "    </tr>\n",
       "  </tbody>\n",
       "</table>\n",
       "</div>"
      ],
      "text/plain": [
       "                                  0  \\\n",
       "0  S2B_MSIL2A_20170930T095019_26_47   \n",
       "1  S2A_MSIL2A_20171002T112112_49_43   \n",
       "2  S2A_MSIL2A_20180225T114351_85_29   \n",
       "3  S2B_MSIL2A_20180201T093219_20_72   \n",
       "4  S2B_MSIL2A_20180421T100029_41_31   \n",
       "\n",
       "                                                   1  Count  \n",
       "0  [Non-irrigated arable land, Pastures, Complex ...      5  \n",
       "1  [Broad-leaved forest, Sclerophyllous vegetatio...      3  \n",
       "2                                     [Sea and ocea]      1  \n",
       "3  [Discontinuous urban fabric, Land principally ...      3  \n",
       "4                       [Pastures, Coniferous fores]      2  "
      ]
     },
     "execution_count": 12,
     "metadata": {},
     "output_type": "execute_result"
    }
   ],
   "source": [
    "df3 = pd.read_csv('Level3_labels.csv', header=None, sep='|')\n",
    "df3[1]=df3[1].str[0:-1].str.split(';')\n",
    "df3['Count'] = [len(c) for c in df3[1]]\n",
    "df3.head()"
   ]
  },
  {
   "cell_type": "code",
   "execution_count": 13,
   "metadata": {},
   "outputs": [],
   "source": [
    "Kardinaalsus3=df3['Count'].mean()"
   ]
  },
  {
   "cell_type": "markdown",
   "metadata": {},
   "source": [
    "## Tihedus"
   ]
  },
  {
   "cell_type": "code",
   "execution_count": 14,
   "metadata": {},
   "outputs": [],
   "source": [
    "df3['Density'] = [c/43 for c in df3['Count']]"
   ]
  },
  {
   "cell_type": "code",
   "execution_count": 15,
   "metadata": {},
   "outputs": [
    {
     "data": {
      "text/html": [
       "<div>\n",
       "<style scoped>\n",
       "    .dataframe tbody tr th:only-of-type {\n",
       "        vertical-align: middle;\n",
       "    }\n",
       "\n",
       "    .dataframe tbody tr th {\n",
       "        vertical-align: top;\n",
       "    }\n",
       "\n",
       "    .dataframe thead th {\n",
       "        text-align: right;\n",
       "    }\n",
       "</style>\n",
       "<table border=\"1\" class=\"dataframe\">\n",
       "  <thead>\n",
       "    <tr style=\"text-align: right;\">\n",
       "      <th></th>\n",
       "      <th>0</th>\n",
       "      <th>1</th>\n",
       "      <th>Count</th>\n",
       "      <th>Density</th>\n",
       "    </tr>\n",
       "  </thead>\n",
       "  <tbody>\n",
       "    <tr>\n",
       "      <td>0</td>\n",
       "      <td>S2B_MSIL2A_20170930T095019_26_47</td>\n",
       "      <td>[Non-irrigated arable land, Pastures, Complex ...</td>\n",
       "      <td>5</td>\n",
       "      <td>0.116279</td>\n",
       "    </tr>\n",
       "    <tr>\n",
       "      <td>1</td>\n",
       "      <td>S2A_MSIL2A_20171002T112112_49_43</td>\n",
       "      <td>[Broad-leaved forest, Sclerophyllous vegetatio...</td>\n",
       "      <td>3</td>\n",
       "      <td>0.069767</td>\n",
       "    </tr>\n",
       "    <tr>\n",
       "      <td>2</td>\n",
       "      <td>S2A_MSIL2A_20180225T114351_85_29</td>\n",
       "      <td>[Sea and ocea]</td>\n",
       "      <td>1</td>\n",
       "      <td>0.023256</td>\n",
       "    </tr>\n",
       "    <tr>\n",
       "      <td>3</td>\n",
       "      <td>S2B_MSIL2A_20180201T093219_20_72</td>\n",
       "      <td>[Discontinuous urban fabric, Land principally ...</td>\n",
       "      <td>3</td>\n",
       "      <td>0.069767</td>\n",
       "    </tr>\n",
       "    <tr>\n",
       "      <td>4</td>\n",
       "      <td>S2B_MSIL2A_20180421T100029_41_31</td>\n",
       "      <td>[Pastures, Coniferous fores]</td>\n",
       "      <td>2</td>\n",
       "      <td>0.046512</td>\n",
       "    </tr>\n",
       "  </tbody>\n",
       "</table>\n",
       "</div>"
      ],
      "text/plain": [
       "                                  0  \\\n",
       "0  S2B_MSIL2A_20170930T095019_26_47   \n",
       "1  S2A_MSIL2A_20171002T112112_49_43   \n",
       "2  S2A_MSIL2A_20180225T114351_85_29   \n",
       "3  S2B_MSIL2A_20180201T093219_20_72   \n",
       "4  S2B_MSIL2A_20180421T100029_41_31   \n",
       "\n",
       "                                                   1  Count   Density  \n",
       "0  [Non-irrigated arable land, Pastures, Complex ...      5  0.116279  \n",
       "1  [Broad-leaved forest, Sclerophyllous vegetatio...      3  0.069767  \n",
       "2                                     [Sea and ocea]      1  0.023256  \n",
       "3  [Discontinuous urban fabric, Land principally ...      3  0.069767  \n",
       "4                       [Pastures, Coniferous fores]      2  0.046512  "
      ]
     },
     "execution_count": 15,
     "metadata": {},
     "output_type": "execute_result"
    }
   ],
   "source": [
    "df3.head()"
   ]
  },
  {
   "cell_type": "code",
   "execution_count": 16,
   "metadata": {},
   "outputs": [],
   "source": [
    "Tihedus3=df3['Density'].mean()"
   ]
  },
  {
   "cell_type": "markdown",
   "metadata": {},
   "source": [
    "# Tulemused"
   ]
  },
  {
   "cell_type": "code",
   "execution_count": 17,
   "metadata": {},
   "outputs": [],
   "source": [
    "data = {'Maakasutuse klassifikatsioon':['1. tase','2. tase','3. tase'],\n",
    "        'Kardinaalsus':[Kardinaalsus1,Kardinaalsus2,Kardinaalsus3],\n",
    "        'Tihedus':[Tihedus1,Tihedus2,Tihedus3]}"
   ]
  },
  {
   "cell_type": "code",
   "execution_count": 22,
   "metadata": {},
   "outputs": [
    {
     "data": {
      "text/html": [
       "<div>\n",
       "<style scoped>\n",
       "    .dataframe tbody tr th:only-of-type {\n",
       "        vertical-align: middle;\n",
       "    }\n",
       "\n",
       "    .dataframe tbody tr th {\n",
       "        vertical-align: top;\n",
       "    }\n",
       "\n",
       "    .dataframe thead th {\n",
       "        text-align: right;\n",
       "    }\n",
       "</style>\n",
       "<table border=\"1\" class=\"dataframe\">\n",
       "  <thead>\n",
       "    <tr style=\"text-align: right;\">\n",
       "      <th></th>\n",
       "      <th>Maakasutuse klassifikatsioon</th>\n",
       "      <th>Kardinaalsus</th>\n",
       "      <th>Tihedus</th>\n",
       "    </tr>\n",
       "  </thead>\n",
       "  <tbody>\n",
       "    <tr>\n",
       "      <td>0</td>\n",
       "      <td>1. tase</td>\n",
       "      <td>1.782755</td>\n",
       "      <td>0.356551</td>\n",
       "    </tr>\n",
       "    <tr>\n",
       "      <td>1</td>\n",
       "      <td>2. tase</td>\n",
       "      <td>2.480208</td>\n",
       "      <td>0.165347</td>\n",
       "    </tr>\n",
       "    <tr>\n",
       "      <td>2</td>\n",
       "      <td>3. tase</td>\n",
       "      <td>2.961759</td>\n",
       "      <td>0.068878</td>\n",
       "    </tr>\n",
       "  </tbody>\n",
       "</table>\n",
       "</div>"
      ],
      "text/plain": [
       "  Maakasutuse klassifikatsioon  Kardinaalsus   Tihedus\n",
       "0                      1. tase      1.782755  0.356551\n",
       "1                      2. tase      2.480208  0.165347\n",
       "2                      3. tase      2.961759  0.068878"
      ]
     },
     "execution_count": 22,
     "metadata": {},
     "output_type": "execute_result"
    }
   ],
   "source": [
    "df=pd.DataFrame(data)\n",
    "df"
   ]
  },
  {
   "cell_type": "code",
   "execution_count": null,
   "metadata": {},
   "outputs": [],
   "source": []
  }
 ],
 "metadata": {
  "kernelspec": {
   "display_name": "Python 3",
   "language": "python",
   "name": "python3"
  },
  "language_info": {
   "codemirror_mode": {
    "name": "ipython",
    "version": 3
   },
   "file_extension": ".py",
   "mimetype": "text/x-python",
   "name": "python",
   "nbconvert_exporter": "python",
   "pygments_lexer": "ipython3",
   "version": "3.7.4"
  }
 },
 "nbformat": 4,
 "nbformat_minor": 4
}
